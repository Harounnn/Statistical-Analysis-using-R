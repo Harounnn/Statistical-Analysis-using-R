{
 "cells": [
  {
   "cell_type": "markdown",
   "metadata": {
    "vscode": {
     "languageId": "r"
    }
   },
   "source": [
    "# Retail Transactions - Statistical Analysis\n",
    "## Dataset Description :\n",
    "* Customer Information:\n",
    "\n",
    "    * CustomerID: A unique identifier for each customer. This allows you to track customer behavior across multiple transactions.\n",
    "* Transaction Details:\n",
    "\n",
    "    * ProductID: A unique identifier for each product sold. This allows you to analyze product-specific trends.\n",
    "\n",
    "    * Quantity: The number of units of each product purchased in a single transaction.\n",
    "\n",
    "    * Price: The unit price of each product.\n",
    "\n",
    "    * TransactionDate: The date and potentially time of each transaction. This allows for analysis of temporal trends like seasonality.\n",
    "\n",
    "    * PaymentMethod: The method used by the customer to pay for the transaction (e.g., credit card, debit card, cash). This can be useful for understanding customer preferences and optimizing payment options.\n",
    "    StoreLocation: The location of the store where the transaction took place (e.g., city, branch). This allows for analysis of location-specific trends.\n",
    "\n",
    "* Product Information:\n",
    "\n",
    "    * ProductCategory: The category the product belongs to (e.g., clothing, electronics, furniture). This facilitates product grouping and analysis by category.\n",
    "\n",
    "* Promotional Information:\n",
    "\n",
    "    * DiscountApplied(%): The percentage discount applied to the transaction, if any. This allows you to assess the impact of promotions and discounts.\n",
    "\n",
    "* Financial Information:\n",
    "\n",
    "    * TotalAmount: The total amount paid for the transaction, considering any discounts applied. This is a crucial metric for revenue analysis."
   ]
  }
 ],
 "metadata": {
  "kernelspec": {
   "display_name": "R",
   "language": "R",
   "name": "ir"
  },
  "language_info": {
   "name": "R"
  }
 },
 "nbformat": 4,
 "nbformat_minor": 2
}
