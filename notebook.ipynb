{
 "cells": [
  {
   "cell_type": "markdown",
   "metadata": {
    "vscode": {
     "languageId": "r"
    }
   },
   "source": [
    "# Retail Transactions - Statistical Analysis\n",
    "![img](img/img.png)\n",
    "## Dataset Description :\n",
    "* Customer Information:\n",
    "\n",
    "    * CustomerID: A unique identifier for each customer. This allows you to track customer behavior across multiple transactions.\n",
    "* Transaction Details:\n",
    "\n",
    "    * ProductID: A unique identifier for each product sold. This allows you to analyze product-specific trends.\n",
    "\n",
    "    * Quantity: The number of units of each product purchased in a single transaction.\n",
    "\n",
    "    * Price: The unit price of each product.\n",
    "\n",
    "    * TransactionDate: The date and potentially time of each transaction. This allows for analysis of temporal trends like seasonality.\n",
    "\n",
    "    * PaymentMethod: The method used by the customer to pay for the transaction (e.g., credit card, debit card, cash). This can be useful for understanding customer preferences and optimizing payment options.\n",
    "    StoreLocation: The location of the store where the transaction took place (e.g., city, branch). This allows for analysis of location-specific trends.\n",
    "\n",
    "* Product Information:\n",
    "\n",
    "    * ProductCategory: The category the product belongs to (e.g., clothing, electronics, furniture). This facilitates product grouping and analysis by category.\n",
    "\n",
    "* Promotional Information:\n",
    "\n",
    "    * DiscountApplied(%): The percentage discount applied to the transaction, if any. This allows you to assess the impact of promotions and discounts.\n",
    "\n",
    "* Financial Information:\n",
    "\n",
    "    * TotalAmount: The total amount paid for the transaction, considering any discounts applied. This is a crucial metric for revenue analysis."
   ]
  },
  {
   "cell_type": "markdown",
   "metadata": {
    "vscode": {
     "languageId": "r"
    }
   },
   "source": [
    "## Data Exploration"
   ]
  },
  {
   "cell_type": "code",
   "execution_count": 2,
   "metadata": {
    "vscode": {
     "languageId": "r"
    }
   },
   "outputs": [],
   "source": [
    "setwd('data/')"
   ]
  },
  {
   "cell_type": "code",
   "execution_count": 3,
   "metadata": {
    "vscode": {
     "languageId": "r"
    }
   },
   "outputs": [
    {
     "data": {
      "text/html": [
       "<table class=\"dataframe\">\n",
       "<caption>A data.frame: 6 × 10</caption>\n",
       "<thead>\n",
       "\t<tr><th></th><th scope=col>CustomerID</th><th scope=col>ProductID</th><th scope=col>Quantity</th><th scope=col>Price</th><th scope=col>TransactionDate</th><th scope=col>PaymentMethod</th><th scope=col>StoreLocation</th><th scope=col>ProductCategory</th><th scope=col>DiscountApplied...</th><th scope=col>TotalAmount</th></tr>\n",
       "\t<tr><th></th><th scope=col>&lt;int&gt;</th><th scope=col>&lt;chr&gt;</th><th scope=col>&lt;int&gt;</th><th scope=col>&lt;dbl&gt;</th><th scope=col>&lt;chr&gt;</th><th scope=col>&lt;chr&gt;</th><th scope=col>&lt;chr&gt;</th><th scope=col>&lt;chr&gt;</th><th scope=col>&lt;dbl&gt;</th><th scope=col>&lt;dbl&gt;</th></tr>\n",
       "</thead>\n",
       "<tbody>\n",
       "\t<tr><th scope=row>1</th><td>109318</td><td>C</td><td>7</td><td>80.07984</td><td>12/26/2023 12:32</td><td>Cash  </td><td>176 Andrew Cliffs\n",
       "Baileyfort, HI 93354             </td><td>Books      </td><td>18.677100</td><td>455.8628</td></tr>\n",
       "\t<tr><th scope=row>2</th><td>993229</td><td>C</td><td>4</td><td>75.19523</td><td>8/5/2023 0:00   </td><td>Cash  </td><td>11635 William Well Suite 809\n",
       "East Kara, MT 19483   </td><td>Home Decor </td><td>14.121365</td><td>258.3065</td></tr>\n",
       "\t<tr><th scope=row>3</th><td>579675</td><td>A</td><td>8</td><td>31.52882</td><td>3/11/2024 18:51 </td><td>Cash  </td><td>910 Mendez Ville Suite 909\n",
       "Port Lauraland, MO 99563</td><td>Books      </td><td>15.943701</td><td>212.0157</td></tr>\n",
       "\t<tr><th scope=row>4</th><td>799826</td><td>D</td><td>5</td><td>98.88022</td><td>10/27/2023 22:00</td><td>PayPal</td><td>87522 Sharon Corners Suite 500\n",
       "Lake Tammy, MO 76234</td><td>Books      </td><td> 6.686337</td><td>461.3438</td></tr>\n",
       "\t<tr><th scope=row>5</th><td>121413</td><td>A</td><td>7</td><td>93.18851</td><td>12/22/2023 11:38</td><td>Cash  </td><td>0070 Michelle Island Suite 143\n",
       "Holand, VA 80142    </td><td>Electronics</td><td> 4.030096</td><td>626.0305</td></tr>\n",
       "\t<tr><th scope=row>6</th><td>463050</td><td>D</td><td>3</td><td>54.09315</td><td>8/15/2023 4:24  </td><td>Cash  </td><td>8492 Jonathan Drive\n",
       "North Robertshire, TN 67532    </td><td>Electronics</td><td>10.888768</td><td>144.6092</td></tr>\n",
       "</tbody>\n",
       "</table>\n"
      ],
      "text/latex": [
       "A data.frame: 6 × 10\n",
       "\\begin{tabular}{r|llllllllll}\n",
       "  & CustomerID & ProductID & Quantity & Price & TransactionDate & PaymentMethod & StoreLocation & ProductCategory & DiscountApplied... & TotalAmount\\\\\n",
       "  & <int> & <chr> & <int> & <dbl> & <chr> & <chr> & <chr> & <chr> & <dbl> & <dbl>\\\\\n",
       "\\hline\n",
       "\t1 & 109318 & C & 7 & 80.07984 & 12/26/2023 12:32 & Cash   & 176 Andrew Cliffs\n",
       "Baileyfort, HI 93354              & Books       & 18.677100 & 455.8628\\\\\n",
       "\t2 & 993229 & C & 4 & 75.19523 & 8/5/2023 0:00    & Cash   & 11635 William Well Suite 809\n",
       "East Kara, MT 19483    & Home Decor  & 14.121365 & 258.3065\\\\\n",
       "\t3 & 579675 & A & 8 & 31.52882 & 3/11/2024 18:51  & Cash   & 910 Mendez Ville Suite 909\n",
       "Port Lauraland, MO 99563 & Books       & 15.943701 & 212.0157\\\\\n",
       "\t4 & 799826 & D & 5 & 98.88022 & 10/27/2023 22:00 & PayPal & 87522 Sharon Corners Suite 500\n",
       "Lake Tammy, MO 76234 & Books       &  6.686337 & 461.3438\\\\\n",
       "\t5 & 121413 & A & 7 & 93.18851 & 12/22/2023 11:38 & Cash   & 0070 Michelle Island Suite 143\n",
       "Holand, VA 80142     & Electronics &  4.030096 & 626.0305\\\\\n",
       "\t6 & 463050 & D & 3 & 54.09315 & 8/15/2023 4:24   & Cash   & 8492 Jonathan Drive\n",
       "North Robertshire, TN 67532     & Electronics & 10.888768 & 144.6092\\\\\n",
       "\\end{tabular}\n"
      ],
      "text/markdown": [
       "\n",
       "A data.frame: 6 × 10\n",
       "\n",
       "| <!--/--> | CustomerID &lt;int&gt; | ProductID &lt;chr&gt; | Quantity &lt;int&gt; | Price &lt;dbl&gt; | TransactionDate &lt;chr&gt; | PaymentMethod &lt;chr&gt; | StoreLocation &lt;chr&gt; | ProductCategory &lt;chr&gt; | DiscountApplied... &lt;dbl&gt; | TotalAmount &lt;dbl&gt; |\n",
       "|---|---|---|---|---|---|---|---|---|---|---|\n",
       "| 1 | 109318 | C | 7 | 80.07984 | 12/26/2023 12:32 | Cash   | 176 Andrew Cliffs\n",
       "Baileyfort, HI 93354              | Books       | 18.677100 | 455.8628 |\n",
       "| 2 | 993229 | C | 4 | 75.19523 | 8/5/2023 0:00    | Cash   | 11635 William Well Suite 809\n",
       "East Kara, MT 19483    | Home Decor  | 14.121365 | 258.3065 |\n",
       "| 3 | 579675 | A | 8 | 31.52882 | 3/11/2024 18:51  | Cash   | 910 Mendez Ville Suite 909\n",
       "Port Lauraland, MO 99563 | Books       | 15.943701 | 212.0157 |\n",
       "| 4 | 799826 | D | 5 | 98.88022 | 10/27/2023 22:00 | PayPal | 87522 Sharon Corners Suite 500\n",
       "Lake Tammy, MO 76234 | Books       |  6.686337 | 461.3438 |\n",
       "| 5 | 121413 | A | 7 | 93.18851 | 12/22/2023 11:38 | Cash   | 0070 Michelle Island Suite 143\n",
       "Holand, VA 80142     | Electronics |  4.030096 | 626.0305 |\n",
       "| 6 | 463050 | D | 3 | 54.09315 | 8/15/2023 4:24   | Cash   | 8492 Jonathan Drive\n",
       "North Robertshire, TN 67532     | Electronics | 10.888768 | 144.6092 |\n",
       "\n"
      ],
      "text/plain": [
       "  CustomerID ProductID Quantity Price    TransactionDate  PaymentMethod\n",
       "1 109318     C         7        80.07984 12/26/2023 12:32 Cash         \n",
       "2 993229     C         4        75.19523 8/5/2023 0:00    Cash         \n",
       "3 579675     A         8        31.52882 3/11/2024 18:51  Cash         \n",
       "4 799826     D         5        98.88022 10/27/2023 22:00 PayPal       \n",
       "5 121413     A         7        93.18851 12/22/2023 11:38 Cash         \n",
       "6 463050     D         3        54.09315 8/15/2023 4:24   Cash         \n",
       "  StoreLocation                                        ProductCategory\n",
       "1 176 Andrew Cliffs\\nBaileyfort, HI 93354              Books          \n",
       "2 11635 William Well Suite 809\\nEast Kara, MT 19483    Home Decor     \n",
       "3 910 Mendez Ville Suite 909\\nPort Lauraland, MO 99563 Books          \n",
       "4 87522 Sharon Corners Suite 500\\nLake Tammy, MO 76234 Books          \n",
       "5 0070 Michelle Island Suite 143\\nHoland, VA 80142     Electronics    \n",
       "6 8492 Jonathan Drive\\nNorth Robertshire, TN 67532     Electronics    \n",
       "  DiscountApplied... TotalAmount\n",
       "1 18.677100          455.8628   \n",
       "2 14.121365          258.3065   \n",
       "3 15.943701          212.0157   \n",
       "4  6.686337          461.3438   \n",
       "5  4.030096          626.0305   \n",
       "6 10.888768          144.6092   "
      ]
     },
     "metadata": {},
     "output_type": "display_data"
    }
   ],
   "source": [
    "data <- read.csv(\"Retail_Transaction_Dataset.csv\")\n",
    "head(data)"
   ]
  },
  {
   "cell_type": "markdown",
   "metadata": {},
   "source": [
    "**Types of the columns**"
   ]
  },
  {
   "cell_type": "code",
   "execution_count": 4,
   "metadata": {
    "vscode": {
     "languageId": "r"
    }
   },
   "outputs": [
    {
     "name": "stdout",
     "output_type": "stream",
     "text": [
      "'data.frame':\t100000 obs. of  10 variables:\n",
      " $ CustomerID        : int  109318 993229 579675 799826 121413 463050 888163 843385 839609 184135 ...\n",
      " $ ProductID         : chr  \"C\" \"C\" \"A\" \"D\" ...\n",
      " $ Quantity          : int  7 4 8 5 7 3 7 8 5 4 ...\n",
      " $ Price             : num  80.1 75.2 31.5 98.9 93.2 ...\n",
      " $ TransactionDate   : chr  \"12/26/2023 12:32\" \"8/5/2023 0:00\" \"3/11/2024 18:51\" \"10/27/2023 22:00\" ...\n",
      " $ PaymentMethod     : chr  \"Cash\" \"Cash\" \"Cash\" \"PayPal\" ...\n",
      " $ StoreLocation     : chr  \"176 Andrew Cliffs\\nBaileyfort, HI 93354\" \"11635 William Well Suite 809\\nEast Kara, MT 19483\" \"910 Mendez Ville Suite 909\\nPort Lauraland, MO 99563\" \"87522 Sharon Corners Suite 500\\nLake Tammy, MO 76234\" ...\n",
      " $ ProductCategory   : chr  \"Books\" \"Home Decor\" \"Books\" \"Books\" ...\n",
      " $ DiscountApplied...: num  18.68 14.12 15.94 6.69 4.03 ...\n",
      " $ TotalAmount       : num  456 258 212 461 626 ...\n"
     ]
    }
   ],
   "source": [
    "str(data)"
   ]
  },
  {
   "cell_type": "markdown",
   "metadata": {
    "vscode": {
     "languageId": "r"
    }
   },
   "source": [
    "We have only one column with a false type which is $TransactionDate.\n",
    "\n",
    "Let's fix it."
   ]
  },
  {
   "cell_type": "code",
   "execution_count": 5,
   "metadata": {
    "vscode": {
     "languageId": "r"
    }
   },
   "outputs": [
    {
     "data": {
      "text/html": [
       "'character'"
      ],
      "text/latex": [
       "'character'"
      ],
      "text/markdown": [
       "'character'"
      ],
      "text/plain": [
       "[1] \"character\""
      ]
     },
     "metadata": {},
     "output_type": "display_data"
    }
   ],
   "source": [
    "class(data$TransactionDate)"
   ]
  },
  {
   "cell_type": "code",
   "execution_count": 6,
   "metadata": {
    "vscode": {
     "languageId": "r"
    }
   },
   "outputs": [],
   "source": [
    "data$TransactionDate <- as.Date(data$TransactionDate, format = \"%d/%m/%Y %H:%M\")"
   ]
  },
  {
   "cell_type": "code",
   "execution_count": 7,
   "metadata": {
    "vscode": {
     "languageId": "r"
    }
   },
   "outputs": [
    {
     "data": {
      "text/html": [
       "'Date'"
      ],
      "text/latex": [
       "'Date'"
      ],
      "text/markdown": [
       "'Date'"
      ],
      "text/plain": [
       "[1] \"Date\""
      ]
     },
     "metadata": {},
     "output_type": "display_data"
    }
   ],
   "source": [
    "class(data$TransactionDate)"
   ]
  },
  {
   "cell_type": "markdown",
   "metadata": {},
   "source": [
    "**Basic Descriptive Statistics**"
   ]
  },
  {
   "cell_type": "code",
   "execution_count": 8,
   "metadata": {
    "vscode": {
     "languageId": "r"
    }
   },
   "outputs": [
    {
     "data": {
      "text/plain": [
       "   CustomerID      ProductID            Quantity         Price       \n",
       " Min.   :    14   Length:100000      Min.   :1.000   Min.   : 10.00  \n",
       " 1st Qu.:250694   Class :character   1st Qu.:3.000   1st Qu.: 32.55  \n",
       " Median :499679   Mode  :character   Median :5.000   Median : 55.12  \n",
       " Mean   :500464                      Mean   :5.009   Mean   : 55.07  \n",
       " 3rd Qu.:751105                      3rd Qu.:7.000   3rd Qu.: 77.46  \n",
       " Max.   :999997                      Max.   :9.000   Max.   :100.00  \n",
       "                                                                     \n",
       " TransactionDate      PaymentMethod      StoreLocation      ProductCategory   \n",
       " Min.   :2023-01-05   Length:100000      Length:100000      Length:100000     \n",
       " 1st Qu.:2023-05-08   Class :character   Class :character   Class :character  \n",
       " Median :2023-09-12   Mode  :character   Mode  :character   Mode  :character  \n",
       " Mean   :2023-10-19                                                           \n",
       " 3rd Qu.:2024-03-04                                                           \n",
       " Max.   :2024-12-04                                                           \n",
       " NA's   :60439                                                                \n",
       " DiscountApplied...   TotalAmount     \n",
       " Min.   : 0.000046   Min.   :  8.275  \n",
       " 1st Qu.: 5.001013   1st Qu.: 95.163  \n",
       " Median :10.030353   Median :200.368  \n",
       " Mean   :10.020155   Mean   :248.335  \n",
       " 3rd Qu.:15.018367   3rd Qu.:362.010  \n",
       " Max.   :19.999585   Max.   :896.141  \n",
       "                                      "
      ]
     },
     "metadata": {},
     "output_type": "display_data"
    }
   ],
   "source": [
    "summary(data)"
   ]
  },
  {
   "cell_type": "markdown",
   "metadata": {
    "vscode": {
     "languageId": "r"
    }
   },
   "source": [
    "Now , we explored our data briefly and cleaned a bit .\n",
    "\n",
    "Let's dive into analysis ."
   ]
  },
  {
   "cell_type": "markdown",
   "metadata": {},
   "source": [
    "## Exploratory Data Analysis (EDA)"
   ]
  },
  {
   "cell_type": "code",
   "execution_count": 9,
   "metadata": {
    "vscode": {
     "languageId": "r"
    }
   },
   "outputs": [
    {
     "name": "stderr",
     "output_type": "stream",
     "text": [
      "Installing package into 'C:/Users/Harou/AppData/Local/R/win-library/4.4'\n",
      "(as 'lib' is unspecified)\n",
      "\n",
      "also installing the dependency 'sf'\n",
      "\n",
      "\n",
      "Warning message in download.file(url, destfile, method, mode = \"wb\", ...):\n",
      "\"downloaded length 7503872 != reported length 39897927\"\n",
      "Warning message in download.file(url, destfile, method, mode = \"wb\", ...):\n",
      "\"URL 'https://cran.r-project.org/bin/windows/contrib/4.4/sf_1.0-16.zip': Timeout of 60 seconds was reached\"\n"
     ]
    },
    {
     "name": "stdout",
     "output_type": "stream",
     "text": [
      "Error in download.file(url, destfile, method, mode = \"wb\", ...) : \n",
      "  download from 'https://cran.r-project.org/bin/windows/contrib/4.4/sf_1.0-16.zip' failed\n"
     ]
    },
    {
     "name": "stderr",
     "output_type": "stream",
     "text": [
      "Warning message in download.packages(pkgs, destdir = tmpd, available = available, :\n",
      "\"download of package 'sf' failed\"\n"
     ]
    },
    {
     "name": "stdout",
     "output_type": "stream",
     "text": [
      "package 'ggplot2' successfully unpacked and MD5 sums checked\n",
      "\n",
      "The downloaded binary packages are in\n",
      "\tC:\\Users\\Harou\\AppData\\Local\\Temp\\RtmpqQQSPt\\downloaded_packages\n"
     ]
    },
    {
     "name": "stderr",
     "output_type": "stream",
     "text": [
      "Installing package into 'C:/Users/Harou/AppData/Local/R/win-library/4.4'\n",
      "(as 'lib' is unspecified)\n",
      "\n"
     ]
    },
    {
     "name": "stdout",
     "output_type": "stream",
     "text": [
      "package 'magrittr' successfully unpacked and MD5 sums checked\n"
     ]
    },
    {
     "name": "stderr",
     "output_type": "stream",
     "text": [
      "Warning message:\n",
      "\"cannot remove prior installation of package 'magrittr'\"\n",
      "Warning message in file.copy(savedcopy, lib, recursive = TRUE):\n",
      "\"problem copying C:\\Users\\Harou\\AppData\\Local\\R\\win-library\\4.4\\00LOCK\\magrittr\\libs\\x64\\magrittr.dll to C:\\Users\\Harou\\AppData\\Local\\R\\win-library\\4.4\\magrittr\\libs\\x64\\magrittr.dll: Permission denied\"\n",
      "Warning message:\n",
      "\"restored 'magrittr'\"\n"
     ]
    },
    {
     "name": "stdout",
     "output_type": "stream",
     "text": [
      "\n",
      "The downloaded binary packages are in\n",
      "\tC:\\Users\\Harou\\AppData\\Local\\Temp\\RtmpqQQSPt\\downloaded_packages\n"
     ]
    },
    {
     "name": "stderr",
     "output_type": "stream",
     "text": [
      "Installing package into 'C:/Users/Harou/AppData/Local/R/win-library/4.4'\n",
      "(as 'lib' is unspecified)\n",
      "\n",
      "Warning message in download.file(url, destfile, method, mode = \"wb\", ...):\n",
      "\"downloaded length 1441792 != reported length 1582561\"\n",
      "Warning message in download.file(url, destfile, method, mode = \"wb\", ...):\n",
      "\"URL 'https://cran.r-project.org/bin/windows/contrib/4.4/dplyr_1.1.4.zip': Timeout of 60 seconds was reached\"\n"
     ]
    },
    {
     "name": "stdout",
     "output_type": "stream",
     "text": [
      "Error in download.file(url, destfile, method, mode = \"wb\", ...) : \n",
      "  download from 'https://cran.r-project.org/bin/windows/contrib/4.4/dplyr_1.1.4.zip' failed\n"
     ]
    },
    {
     "name": "stderr",
     "output_type": "stream",
     "text": [
      "Warning message in download.packages(pkgs, destdir = tmpd, available = available, :\n",
      "\"download of package 'dplyr' failed\"\n"
     ]
    }
   ],
   "source": [
    "install.packages(\"ggplot2\", dependencies=TRUE)\n",
    "install.packages(\"magrittr\", dependencies=TRUE)\n",
    "install.packages(\"dplyr\", dependencies=TRUE)"
   ]
  },
  {
   "cell_type": "code",
   "execution_count": 10,
   "metadata": {
    "vscode": {
     "languageId": "r"
    }
   },
   "outputs": [
    {
     "name": "stderr",
     "output_type": "stream",
     "text": [
      "\n",
      "Attaching package: 'dplyr'\n",
      "\n",
      "\n",
      "The following objects are masked from 'package:stats':\n",
      "\n",
      "    filter, lag\n",
      "\n",
      "\n",
      "The following objects are masked from 'package:base':\n",
      "\n",
      "    intersect, setdiff, setequal, union\n",
      "\n",
      "\n",
      "\n",
      "Attaching package: 'lubridate'\n",
      "\n",
      "\n",
      "The following objects are masked from 'package:base':\n",
      "\n",
      "    date, intersect, setdiff, union\n",
      "\n",
      "\n"
     ]
    }
   ],
   "source": [
    "library(ggplot2)\n",
    "library(magrittr)\n",
    "library(dplyr)\n",
    "library(lubridate)"
   ]
  },
  {
   "cell_type": "markdown",
   "metadata": {},
   "source": [
    "**Product Category Distribution**"
   ]
  },
  {
   "cell_type": "code",
   "execution_count": 11,
   "metadata": {
    "vscode": {
     "languageId": "r"
    }
   },
   "outputs": [
    {
     "name": "stderr",
     "output_type": "stream",
     "text": [
      "Warning message:\n",
      "\"\u001b[1m\u001b[22mThe dot-dot notation (`..count..`) was deprecated in ggplot2 3.4.0.\n",
      "\u001b[36mℹ\u001b[39m Please use `after_stat(count)` instead.\"\n"
     ]
    },
    {
     "data": {
      "image/png": "[encoded data removed]",
      "text/plain": [
       "plot without title"
      ]
     },
     "metadata": {
      "image/png": {
       "height": 420,
       "width": 420
      }
     },
     "output_type": "display_data"
    }
   ],
   "source": [
    "ggplot(data, aes(x = ProductCategory, y = ..count..)) +  \n",
    "  geom_bar(stat = \"count\", color = \"skyblue\") +  \n",
    "  labs(title = \"Product Distribution by Category\", x = \"Product Category\", y = \"Number of Products\")"
   ]
  },
  {
   "cell_type": "markdown",
   "metadata": {},
   "source": [
    "***---> Evenly distributed***"
   ]
  },
  {
   "cell_type": "markdown",
   "metadata": {},
   "source": [
    "**Price Distribution**"
   ]
  },
  {
   "cell_type": "code",
   "execution_count": 12,
   "metadata": {
    "vscode": {
     "languageId": "r"
    }
   },
   "outputs": [
    {
     "data": {
      "image/png": "[encoded data removed]",
      "text/plain": [
       "plot without title"
      ]
     },
     "metadata": {
      "image/png": {
       "height": 420,
       "width": 420
      }
     },
     "output_type": "display_data"
    }
   ],
   "source": [
    "ggplot(data, aes(x = Price, y = after_stat(density))) +  \n",
    "  geom_density(alpha = 0.5) +  \n",
    "  labs(title = \"Price Distribution\", x = \"Price\", y = \"Density\")"
   ]
  },
  {
   "cell_type": "code",
   "execution_count": 13,
   "metadata": {
    "vscode": {
     "languageId": "r"
    }
   },
   "outputs": [
    {
     "data": {
      "image/png": "[encoded data removed]",
      "text/plain": [
       "plot without title"
      ]
     },
     "metadata": {
      "image/png": {
       "height": 420,
       "width": 420
      }
     },
     "output_type": "display_data"
    }
   ],
   "source": [
    "data %>%\n",
    "  group_by(PaymentMethod) %>%\n",
    "  summarise(total_sales = sum(ifelse(is.numeric(TotalAmount), TotalAmount, 0))) %>%  \n",
    "  arrange(desc(total_sales)) %>%  \n",
    "  ggplot(aes(x = PaymentMethod, y = total_sales)) +\n",
    "  geom_bar(stat = \"identity\", color = \"coral\") +\n",
    "  labs(title = \"Total Sales by Payment Method\", x = \"Payment Method\", y = \"Total Sales\")\n"
   ]
  }
 ],
 "metadata": {
  "kernelspec": {
   "display_name": "R",
   "language": "R",
   "name": "ir"
  },
  "language_info": {
   "codemirror_mode": "r",
   "file_extension": ".r",
   "mimetype": "text/x-r-source",
   "name": "R",
   "pygments_lexer": "r",
   "version": "4.4.0"
  }
 },
 "nbformat": 4,
 "nbformat_minor": 2
}
