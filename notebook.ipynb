{
 "cells": [
  {
   "cell_type": "markdown",
   "metadata": {
    "vscode": {
     "languageId": "r"
    }
   },
   "source": [
    "# Retail Transactions - Statistical Analysis\n",
    "![img](img/img.png)\n",
    "## Dataset Description :\n",
    "* Customer Information:\n",
    "\n",
    "    * CustomerID: A unique identifier for each customer. This allows you to track customer behavior across multiple transactions.\n",
    "* Transaction Details:\n",
    "\n",
    "    * ProductID: A unique identifier for each product sold. This allows you to analyze product-specific trends.\n",
    "\n",
    "    * Quantity: The number of units of each product purchased in a single transaction.\n",
    "\n",
    "    * Price: The unit price of each product.\n",
    "\n",
    "    * TransactionDate: The date and potentially time of each transaction. This allows for analysis of temporal trends like seasonality.\n",
    "\n",
    "    * PaymentMethod: The method used by the customer to pay for the transaction (e.g., credit card, debit card, cash). This can be useful for understanding customer preferences and optimizing payment options.\n",
    "    StoreLocation: The location of the store where the transaction took place (e.g., city, branch). This allows for analysis of location-specific trends.\n",
    "\n",
    "* Product Information:\n",
    "\n",
    "    * ProductCategory: The category the product belongs to (e.g., clothing, electronics, furniture). This facilitates product grouping and analysis by category.\n",
    "\n",
    "* Promotional Information:\n",
    "\n",
    "    * DiscountApplied(%): The percentage discount applied to the transaction, if any. This allows you to assess the impact of promotions and discounts.\n",
    "\n",
    "* Financial Information:\n",
    "\n",
    "    * TotalAmount: The total amount paid for the transaction, considering any discounts applied. This is a crucial metric for revenue analysis."
   ]
  },
  {
   "cell_type": "markdown",
   "metadata": {
    "vscode": {
     "languageId": "r"
    }
   },
   "source": [
    "## Data Exploration"
   ]
  },
  {
   "cell_type": "code",
   "execution_count": 1,
   "metadata": {
    "vscode": {
     "languageId": "r"
    }
   },
   "outputs": [],
   "source": [
    "setwd('data/')"
   ]
  },
  {
   "cell_type": "code",
   "execution_count": 2,
   "metadata": {
    "vscode": {
     "languageId": "r"
    }
   },
   "outputs": [
    {
     "data": {
      "text/html": [
       "<table class=\"dataframe\">\n",
       "<caption>A data.frame: 6 × 10</caption>\n",
       "<thead>\n",
       "\t<tr><th></th><th scope=col>CustomerID</th><th scope=col>ProductID</th><th scope=col>Quantity</th><th scope=col>Price</th><th scope=col>TransactionDate</th><th scope=col>PaymentMethod</th><th scope=col>StoreLocation</th><th scope=col>ProductCategory</th><th scope=col>DiscountApplied...</th><th scope=col>TotalAmount</th></tr>\n",
       "\t<tr><th></th><th scope=col>&lt;int&gt;</th><th scope=col>&lt;chr&gt;</th><th scope=col>&lt;int&gt;</th><th scope=col>&lt;dbl&gt;</th><th scope=col>&lt;chr&gt;</th><th scope=col>&lt;chr&gt;</th><th scope=col>&lt;chr&gt;</th><th scope=col>&lt;chr&gt;</th><th scope=col>&lt;dbl&gt;</th><th scope=col>&lt;dbl&gt;</th></tr>\n",
       "</thead>\n",
       "<tbody>\n",
       "\t<tr><th scope=row>1</th><td>109318</td><td>C</td><td>7</td><td>80.07984</td><td>12/26/2023 12:32</td><td>Cash  </td><td>176 Andrew Cliffs\n",
       "Baileyfort, HI 93354             </td><td>Books      </td><td>18.677100</td><td>455.8628</td></tr>\n",
       "\t<tr><th scope=row>2</th><td>993229</td><td>C</td><td>4</td><td>75.19523</td><td>8/5/2023 0:00   </td><td>Cash  </td><td>11635 William Well Suite 809\n",
       "East Kara, MT 19483   </td><td>Home Decor </td><td>14.121365</td><td>258.3065</td></tr>\n",
       "\t<tr><th scope=row>3</th><td>579675</td><td>A</td><td>8</td><td>31.52882</td><td>3/11/2024 18:51 </td><td>Cash  </td><td>910 Mendez Ville Suite 909\n",
       "Port Lauraland, MO 99563</td><td>Books      </td><td>15.943701</td><td>212.0157</td></tr>\n",
       "\t<tr><th scope=row>4</th><td>799826</td><td>D</td><td>5</td><td>98.88022</td><td>10/27/2023 22:00</td><td>PayPal</td><td>87522 Sharon Corners Suite 500\n",
       "Lake Tammy, MO 76234</td><td>Books      </td><td> 6.686337</td><td>461.3438</td></tr>\n",
       "\t<tr><th scope=row>5</th><td>121413</td><td>A</td><td>7</td><td>93.18851</td><td>12/22/2023 11:38</td><td>Cash  </td><td>0070 Michelle Island Suite 143\n",
       "Holand, VA 80142    </td><td>Electronics</td><td> 4.030096</td><td>626.0305</td></tr>\n",
       "\t<tr><th scope=row>6</th><td>463050</td><td>D</td><td>3</td><td>54.09315</td><td>8/15/2023 4:24  </td><td>Cash  </td><td>8492 Jonathan Drive\n",
       "North Robertshire, TN 67532    </td><td>Electronics</td><td>10.888768</td><td>144.6092</td></tr>\n",
       "</tbody>\n",
       "</table>\n"
      ],
      "text/latex": [
       "A data.frame: 6 × 10\n",
       "\\begin{tabular}{r|llllllllll}\n",
       "  & CustomerID & ProductID & Quantity & Price & TransactionDate & PaymentMethod & StoreLocation & ProductCategory & DiscountApplied... & TotalAmount\\\\\n",
       "  & <int> & <chr> & <int> & <dbl> & <chr> & <chr> & <chr> & <chr> & <dbl> & <dbl>\\\\\n",
       "\\hline\n",
       "\t1 & 109318 & C & 7 & 80.07984 & 12/26/2023 12:32 & Cash   & 176 Andrew Cliffs\n",
       "Baileyfort, HI 93354              & Books       & 18.677100 & 455.8628\\\\\n",
       "\t2 & 993229 & C & 4 & 75.19523 & 8/5/2023 0:00    & Cash   & 11635 William Well Suite 809\n",
       "East Kara, MT 19483    & Home Decor  & 14.121365 & 258.3065\\\\\n",
       "\t3 & 579675 & A & 8 & 31.52882 & 3/11/2024 18:51  & Cash   & 910 Mendez Ville Suite 909\n",
       "Port Lauraland, MO 99563 & Books       & 15.943701 & 212.0157\\\\\n",
       "\t4 & 799826 & D & 5 & 98.88022 & 10/27/2023 22:00 & PayPal & 87522 Sharon Corners Suite 500\n",
       "Lake Tammy, MO 76234 & Books       &  6.686337 & 461.3438\\\\\n",
       "\t5 & 121413 & A & 7 & 93.18851 & 12/22/2023 11:38 & Cash   & 0070 Michelle Island Suite 143\n",
       "Holand, VA 80142     & Electronics &  4.030096 & 626.0305\\\\\n",
       "\t6 & 463050 & D & 3 & 54.09315 & 8/15/2023 4:24   & Cash   & 8492 Jonathan Drive\n",
       "North Robertshire, TN 67532     & Electronics & 10.888768 & 144.6092\\\\\n",
       "\\end{tabular}\n"
      ],
      "text/markdown": [
       "\n",
       "A data.frame: 6 × 10\n",
       "\n",
       "| <!--/--> | CustomerID &lt;int&gt; | ProductID &lt;chr&gt; | Quantity &lt;int&gt; | Price &lt;dbl&gt; | TransactionDate &lt;chr&gt; | PaymentMethod &lt;chr&gt; | StoreLocation &lt;chr&gt; | ProductCategory &lt;chr&gt; | DiscountApplied... &lt;dbl&gt; | TotalAmount &lt;dbl&gt; |\n",
       "|---|---|---|---|---|---|---|---|---|---|---|\n",
       "| 1 | 109318 | C | 7 | 80.07984 | 12/26/2023 12:32 | Cash   | 176 Andrew Cliffs\n",
       "Baileyfort, HI 93354              | Books       | 18.677100 | 455.8628 |\n",
       "| 2 | 993229 | C | 4 | 75.19523 | 8/5/2023 0:00    | Cash   | 11635 William Well Suite 809\n",
       "East Kara, MT 19483    | Home Decor  | 14.121365 | 258.3065 |\n",
       "| 3 | 579675 | A | 8 | 31.52882 | 3/11/2024 18:51  | Cash   | 910 Mendez Ville Suite 909\n",
       "Port Lauraland, MO 99563 | Books       | 15.943701 | 212.0157 |\n",
       "| 4 | 799826 | D | 5 | 98.88022 | 10/27/2023 22:00 | PayPal | 87522 Sharon Corners Suite 500\n",
       "Lake Tammy, MO 76234 | Books       |  6.686337 | 461.3438 |\n",
       "| 5 | 121413 | A | 7 | 93.18851 | 12/22/2023 11:38 | Cash   | 0070 Michelle Island Suite 143\n",
       "Holand, VA 80142     | Electronics |  4.030096 | 626.0305 |\n",
       "| 6 | 463050 | D | 3 | 54.09315 | 8/15/2023 4:24   | Cash   | 8492 Jonathan Drive\n",
       "North Robertshire, TN 67532     | Electronics | 10.888768 | 144.6092 |\n",
       "\n"
      ],
      "text/plain": [
       "  CustomerID ProductID Quantity Price    TransactionDate  PaymentMethod\n",
       "1 109318     C         7        80.07984 12/26/2023 12:32 Cash         \n",
       "2 993229     C         4        75.19523 8/5/2023 0:00    Cash         \n",
       "3 579675     A         8        31.52882 3/11/2024 18:51  Cash         \n",
       "4 799826     D         5        98.88022 10/27/2023 22:00 PayPal       \n",
       "5 121413     A         7        93.18851 12/22/2023 11:38 Cash         \n",
       "6 463050     D         3        54.09315 8/15/2023 4:24   Cash         \n",
       "  StoreLocation                                        ProductCategory\n",
       "1 176 Andrew Cliffs\\nBaileyfort, HI 93354              Books          \n",
       "2 11635 William Well Suite 809\\nEast Kara, MT 19483    Home Decor     \n",
       "3 910 Mendez Ville Suite 909\\nPort Lauraland, MO 99563 Books          \n",
       "4 87522 Sharon Corners Suite 500\\nLake Tammy, MO 76234 Books          \n",
       "5 0070 Michelle Island Suite 143\\nHoland, VA 80142     Electronics    \n",
       "6 8492 Jonathan Drive\\nNorth Robertshire, TN 67532     Electronics    \n",
       "  DiscountApplied... TotalAmount\n",
       "1 18.677100          455.8628   \n",
       "2 14.121365          258.3065   \n",
       "3 15.943701          212.0157   \n",
       "4  6.686337          461.3438   \n",
       "5  4.030096          626.0305   \n",
       "6 10.888768          144.6092   "
      ]
     },
     "metadata": {},
     "output_type": "display_data"
    }
   ],
   "source": [
    "data <- read.csv(\"Retail_Transaction_Dataset.csv\")\n",
    "head(data)"
   ]
  },
  {
   "cell_type": "markdown",
   "metadata": {},
   "source": [
    "**Types of the columns**"
   ]
  },
  {
   "cell_type": "code",
   "execution_count": 3,
   "metadata": {
    "vscode": {
     "languageId": "r"
    }
   },
   "outputs": [
    {
     "name": "stdout",
     "output_type": "stream",
     "text": [
      "'data.frame':\t100000 obs. of  10 variables:\n",
      " $ CustomerID        : int  109318 993229 579675 799826 121413 463050 888163 843385 839609 184135 ...\n",
      " $ ProductID         : chr  \"C\" \"C\" \"A\" \"D\" ...\n",
      " $ Quantity          : int  7 4 8 5 7 3 7 8 5 4 ...\n",
      " $ Price             : num  80.1 75.2 31.5 98.9 93.2 ...\n",
      " $ TransactionDate   : chr  \"12/26/2023 12:32\" \"8/5/2023 0:00\" \"3/11/2024 18:51\" \"10/27/2023 22:00\" ...\n",
      " $ PaymentMethod     : chr  \"Cash\" \"Cash\" \"Cash\" \"PayPal\" ...\n",
      " $ StoreLocation     : chr  \"176 Andrew Cliffs\\nBaileyfort, HI 93354\" \"11635 William Well Suite 809\\nEast Kara, MT 19483\" \"910 Mendez Ville Suite 909\\nPort Lauraland, MO 99563\" \"87522 Sharon Corners Suite 500\\nLake Tammy, MO 76234\" ...\n",
      " $ ProductCategory   : chr  \"Books\" \"Home Decor\" \"Books\" \"Books\" ...\n",
      " $ DiscountApplied...: num  18.68 14.12 15.94 6.69 4.03 ...\n",
      " $ TotalAmount       : num  456 258 212 461 626 ...\n"
     ]
    }
   ],
   "source": [
    "str(data)"
   ]
  },
  {
   "cell_type": "markdown",
   "metadata": {
    "vscode": {
     "languageId": "r"
    }
   },
   "source": [
    "We have only one column with a false type which is $TransactionDate.\n",
    "\n",
    "Let's fix it."
   ]
  },
  {
   "cell_type": "code",
   "execution_count": 4,
   "metadata": {
    "vscode": {
     "languageId": "r"
    }
   },
   "outputs": [],
   "source": [
    "data$TransactionDate <- as.POSIXct(strptime(data$TransactionDate, format = \"%m/%d/%Y %H:%M\", tz = \"UTC\"))"
   ]
  },
  {
   "cell_type": "code",
   "execution_count": 5,
   "metadata": {
    "vscode": {
     "languageId": "r"
    }
   },
   "outputs": [
    {
     "data": {
      "text/html": [
       "<table class=\"dataframe\">\n",
       "<caption>A data.frame: 6 × 10</caption>\n",
       "<thead>\n",
       "\t<tr><th></th><th scope=col>CustomerID</th><th scope=col>ProductID</th><th scope=col>Quantity</th><th scope=col>Price</th><th scope=col>TransactionDate</th><th scope=col>PaymentMethod</th><th scope=col>StoreLocation</th><th scope=col>ProductCategory</th><th scope=col>DiscountApplied...</th><th scope=col>TotalAmount</th></tr>\n",
       "\t<tr><th></th><th scope=col>&lt;int&gt;</th><th scope=col>&lt;chr&gt;</th><th scope=col>&lt;int&gt;</th><th scope=col>&lt;dbl&gt;</th><th scope=col>&lt;dttm&gt;</th><th scope=col>&lt;chr&gt;</th><th scope=col>&lt;chr&gt;</th><th scope=col>&lt;chr&gt;</th><th scope=col>&lt;dbl&gt;</th><th scope=col>&lt;dbl&gt;</th></tr>\n",
       "</thead>\n",
       "<tbody>\n",
       "\t<tr><th scope=row>1</th><td>109318</td><td>C</td><td>7</td><td>80.07984</td><td>2023-12-26 12:32:00</td><td>Cash  </td><td>176 Andrew Cliffs\n",
       "Baileyfort, HI 93354             </td><td>Books      </td><td>18.677100</td><td>455.8628</td></tr>\n",
       "\t<tr><th scope=row>2</th><td>993229</td><td>C</td><td>4</td><td>75.19523</td><td>2023-08-05 00:00:00</td><td>Cash  </td><td>11635 William Well Suite 809\n",
       "East Kara, MT 19483   </td><td>Home Decor </td><td>14.121365</td><td>258.3065</td></tr>\n",
       "\t<tr><th scope=row>3</th><td>579675</td><td>A</td><td>8</td><td>31.52882</td><td>2024-03-11 18:51:00</td><td>Cash  </td><td>910 Mendez Ville Suite 909\n",
       "Port Lauraland, MO 99563</td><td>Books      </td><td>15.943701</td><td>212.0157</td></tr>\n",
       "\t<tr><th scope=row>4</th><td>799826</td><td>D</td><td>5</td><td>98.88022</td><td>2023-10-27 22:00:00</td><td>PayPal</td><td>87522 Sharon Corners Suite 500\n",
       "Lake Tammy, MO 76234</td><td>Books      </td><td> 6.686337</td><td>461.3438</td></tr>\n",
       "\t<tr><th scope=row>5</th><td>121413</td><td>A</td><td>7</td><td>93.18851</td><td>2023-12-22 11:38:00</td><td>Cash  </td><td>0070 Michelle Island Suite 143\n",
       "Holand, VA 80142    </td><td>Electronics</td><td> 4.030096</td><td>626.0305</td></tr>\n",
       "\t<tr><th scope=row>6</th><td>463050</td><td>D</td><td>3</td><td>54.09315</td><td>2023-08-15 04:24:00</td><td>Cash  </td><td>8492 Jonathan Drive\n",
       "North Robertshire, TN 67532    </td><td>Electronics</td><td>10.888768</td><td>144.6092</td></tr>\n",
       "</tbody>\n",
       "</table>\n"
      ],
      "text/latex": [
       "A data.frame: 6 × 10\n",
       "\\begin{tabular}{r|llllllllll}\n",
       "  & CustomerID & ProductID & Quantity & Price & TransactionDate & PaymentMethod & StoreLocation & ProductCategory & DiscountApplied... & TotalAmount\\\\\n",
       "  & <int> & <chr> & <int> & <dbl> & <dttm> & <chr> & <chr> & <chr> & <dbl> & <dbl>\\\\\n",
       "\\hline\n",
       "\t1 & 109318 & C & 7 & 80.07984 & 2023-12-26 12:32:00 & Cash   & 176 Andrew Cliffs\n",
       "Baileyfort, HI 93354              & Books       & 18.677100 & 455.8628\\\\\n",
       "\t2 & 993229 & C & 4 & 75.19523 & 2023-08-05 00:00:00 & Cash   & 11635 William Well Suite 809\n",
       "East Kara, MT 19483    & Home Decor  & 14.121365 & 258.3065\\\\\n",
       "\t3 & 579675 & A & 8 & 31.52882 & 2024-03-11 18:51:00 & Cash   & 910 Mendez Ville Suite 909\n",
       "Port Lauraland, MO 99563 & Books       & 15.943701 & 212.0157\\\\\n",
       "\t4 & 799826 & D & 5 & 98.88022 & 2023-10-27 22:00:00 & PayPal & 87522 Sharon Corners Suite 500\n",
       "Lake Tammy, MO 76234 & Books       &  6.686337 & 461.3438\\\\\n",
       "\t5 & 121413 & A & 7 & 93.18851 & 2023-12-22 11:38:00 & Cash   & 0070 Michelle Island Suite 143\n",
       "Holand, VA 80142     & Electronics &  4.030096 & 626.0305\\\\\n",
       "\t6 & 463050 & D & 3 & 54.09315 & 2023-08-15 04:24:00 & Cash   & 8492 Jonathan Drive\n",
       "North Robertshire, TN 67532     & Electronics & 10.888768 & 144.6092\\\\\n",
       "\\end{tabular}\n"
      ],
      "text/markdown": [
       "\n",
       "A data.frame: 6 × 10\n",
       "\n",
       "| <!--/--> | CustomerID &lt;int&gt; | ProductID &lt;chr&gt; | Quantity &lt;int&gt; | Price &lt;dbl&gt; | TransactionDate &lt;dttm&gt; | PaymentMethod &lt;chr&gt; | StoreLocation &lt;chr&gt; | ProductCategory &lt;chr&gt; | DiscountApplied... &lt;dbl&gt; | TotalAmount &lt;dbl&gt; |\n",
       "|---|---|---|---|---|---|---|---|---|---|---|\n",
       "| 1 | 109318 | C | 7 | 80.07984 | 2023-12-26 12:32:00 | Cash   | 176 Andrew Cliffs\n",
       "Baileyfort, HI 93354              | Books       | 18.677100 | 455.8628 |\n",
       "| 2 | 993229 | C | 4 | 75.19523 | 2023-08-05 00:00:00 | Cash   | 11635 William Well Suite 809\n",
       "East Kara, MT 19483    | Home Decor  | 14.121365 | 258.3065 |\n",
       "| 3 | 579675 | A | 8 | 31.52882 | 2024-03-11 18:51:00 | Cash   | 910 Mendez Ville Suite 909\n",
       "Port Lauraland, MO 99563 | Books       | 15.943701 | 212.0157 |\n",
       "| 4 | 799826 | D | 5 | 98.88022 | 2023-10-27 22:00:00 | PayPal | 87522 Sharon Corners Suite 500\n",
       "Lake Tammy, MO 76234 | Books       |  6.686337 | 461.3438 |\n",
       "| 5 | 121413 | A | 7 | 93.18851 | 2023-12-22 11:38:00 | Cash   | 0070 Michelle Island Suite 143\n",
       "Holand, VA 80142     | Electronics |  4.030096 | 626.0305 |\n",
       "| 6 | 463050 | D | 3 | 54.09315 | 2023-08-15 04:24:00 | Cash   | 8492 Jonathan Drive\n",
       "North Robertshire, TN 67532     | Electronics | 10.888768 | 144.6092 |\n",
       "\n"
      ],
      "text/plain": [
       "  CustomerID ProductID Quantity Price    TransactionDate     PaymentMethod\n",
       "1 109318     C         7        80.07984 2023-12-26 12:32:00 Cash         \n",
       "2 993229     C         4        75.19523 2023-08-05 00:00:00 Cash         \n",
       "3 579675     A         8        31.52882 2024-03-11 18:51:00 Cash         \n",
       "4 799826     D         5        98.88022 2023-10-27 22:00:00 PayPal       \n",
       "5 121413     A         7        93.18851 2023-12-22 11:38:00 Cash         \n",
       "6 463050     D         3        54.09315 2023-08-15 04:24:00 Cash         \n",
       "  StoreLocation                                        ProductCategory\n",
       "1 176 Andrew Cliffs\\nBaileyfort, HI 93354              Books          \n",
       "2 11635 William Well Suite 809\\nEast Kara, MT 19483    Home Decor     \n",
       "3 910 Mendez Ville Suite 909\\nPort Lauraland, MO 99563 Books          \n",
       "4 87522 Sharon Corners Suite 500\\nLake Tammy, MO 76234 Books          \n",
       "5 0070 Michelle Island Suite 143\\nHoland, VA 80142     Electronics    \n",
       "6 8492 Jonathan Drive\\nNorth Robertshire, TN 67532     Electronics    \n",
       "  DiscountApplied... TotalAmount\n",
       "1 18.677100          455.8628   \n",
       "2 14.121365          258.3065   \n",
       "3 15.943701          212.0157   \n",
       "4  6.686337          461.3438   \n",
       "5  4.030096          626.0305   \n",
       "6 10.888768          144.6092   "
      ]
     },
     "metadata": {},
     "output_type": "display_data"
    }
   ],
   "source": [
    "head(data)"
   ]
  },
  {
   "cell_type": "code",
   "execution_count": 6,
   "metadata": {
    "vscode": {
     "languageId": "r"
    }
   },
   "outputs": [
    {
     "data": {
      "text/html": [
       "<style>\n",
       ".list-inline {list-style: none; margin:0; padding: 0}\n",
       ".list-inline>li {display: inline-block}\n",
       ".list-inline>li:not(:last-child)::after {content: \"\\00b7\"; padding: 0 .5ex}\n",
       "</style>\n",
       "<ol class=list-inline><li>'POSIXct'</li><li>'POSIXt'</li></ol>\n"
      ],
      "text/latex": [
       "\\begin{enumerate*}\n",
       "\\item 'POSIXct'\n",
       "\\item 'POSIXt'\n",
       "\\end{enumerate*}\n"
      ],
      "text/markdown": [
       "1. 'POSIXct'\n",
       "2. 'POSIXt'\n",
       "\n",
       "\n"
      ],
      "text/plain": [
       "[1] \"POSIXct\" \"POSIXt\" "
      ]
     },
     "metadata": {},
     "output_type": "display_data"
    }
   ],
   "source": [
    "class(data$TransactionDate)"
   ]
  },
  {
   "cell_type": "markdown",
   "metadata": {},
   "source": [
    "**Basic Descriptive Statistics**"
   ]
  },
  {
   "cell_type": "code",
   "execution_count": 7,
   "metadata": {
    "vscode": {
     "languageId": "r"
    }
   },
   "outputs": [
    {
     "data": {
      "text/plain": [
       "   CustomerID      ProductID            Quantity         Price       \n",
       " Min.   :    14   Length:100000      Min.   :1.000   Min.   : 10.00  \n",
       " 1st Qu.:250694   Class :character   1st Qu.:3.000   1st Qu.: 32.55  \n",
       " Median :499679   Mode  :character   Median :5.000   Median : 55.12  \n",
       " Mean   :500464                      Mean   :5.009   Mean   : 55.07  \n",
       " 3rd Qu.:751105                      3rd Qu.:7.000   3rd Qu.: 77.46  \n",
       " Max.   :999997                      Max.   :9.000   Max.   :100.00  \n",
       " TransactionDate                  PaymentMethod      StoreLocation     \n",
       " Min.   :2023-04-29 22:27:00.00   Length:100000      Length:100000     \n",
       " 1st Qu.:2023-07-30 06:45:15.00   Class :character   Class :character  \n",
       " Median :2023-10-30 05:12:30.00   Mode  :character   Mode  :character  \n",
       " Mean   :2023-10-29 15:40:05.47                                        \n",
       " 3rd Qu.:2024-01-29 05:44:00.00                                        \n",
       " Max.   :2024-04-28 22:22:00.00                                        \n",
       " ProductCategory    DiscountApplied...   TotalAmount     \n",
       " Length:100000      Min.   : 0.000046   Min.   :  8.275  \n",
       " Class :character   1st Qu.: 5.001013   1st Qu.: 95.163  \n",
       " Mode  :character   Median :10.030353   Median :200.368  \n",
       "                    Mean   :10.020155   Mean   :248.335  \n",
       "                    3rd Qu.:15.018367   3rd Qu.:362.010  \n",
       "                    Max.   :19.999585   Max.   :896.141  "
      ]
     },
     "metadata": {},
     "output_type": "display_data"
    }
   ],
   "source": [
    "summary(data)"
   ]
  },
  {
   "cell_type": "markdown",
   "metadata": {
    "vscode": {
     "languageId": "r"
    }
   },
   "source": [
    "Now , we explored our data briefly and cleaned a bit .\n",
    "\n",
    "Let's dive into analysis ."
   ]
  },
  {
   "cell_type": "markdown",
   "metadata": {},
   "source": [
    "## Exploratory Data Analysis (EDA)"
   ]
  },
  {
   "cell_type": "code",
   "execution_count": 8,
   "metadata": {
    "vscode": {
     "languageId": "r"
    }
   },
   "outputs": [
    {
     "name": "stderr",
     "output_type": "stream",
     "text": [
      "Installing package into 'C:/Users/Harou/AppData/Local/R/win-library/4.4'\n",
      "(as 'lib' is unspecified)\n",
      "\n",
      "also installing the dependency 'sf'\n",
      "\n",
      "\n",
      "Warning message in download.file(url, destfile, method, mode = \"wb\", ...):\n",
      "\"downloaded length 26165248 != reported length 39897927\"\n",
      "Warning message in download.file(url, destfile, method, mode = \"wb\", ...):\n",
      "\"URL 'https://cran.r-project.org/bin/windows/contrib/4.4/sf_1.0-16.zip': Timeout of 60 seconds was reached\"\n"
     ]
    },
    {
     "name": "stdout",
     "output_type": "stream",
     "text": [
      "Error in download.file(url, destfile, method, mode = \"wb\", ...) : \n",
      "  download from 'https://cran.r-project.org/bin/windows/contrib/4.4/sf_1.0-16.zip' failed\n"
     ]
    },
    {
     "name": "stderr",
     "output_type": "stream",
     "text": [
      "Warning message in download.packages(pkgs, destdir = tmpd, available = available, :\n",
      "\"download of package 'sf' failed\"\n"
     ]
    },
    {
     "name": "stdout",
     "output_type": "stream",
     "text": [
      "package 'ggplot2' successfully unpacked and MD5 sums checked\n",
      "\n",
      "The downloaded binary packages are in\n",
      "\tC:\\Users\\Harou\\AppData\\Local\\Temp\\Rtmp4w9Z0F\\downloaded_packages\n"
     ]
    },
    {
     "name": "stderr",
     "output_type": "stream",
     "text": [
      "Installing package into 'C:/Users/Harou/AppData/Local/R/win-library/4.4'\n",
      "(as 'lib' is unspecified)\n",
      "\n"
     ]
    },
    {
     "name": "stdout",
     "output_type": "stream",
     "text": [
      "package 'magrittr' successfully unpacked and MD5 sums checked\n"
     ]
    },
    {
     "name": "stderr",
     "output_type": "stream",
     "text": [
      "Warning message:\n",
      "\"cannot remove prior installation of package 'magrittr'\"\n",
      "Warning message in file.copy(savedcopy, lib, recursive = TRUE):\n",
      "\"problem copying C:\\Users\\Harou\\AppData\\Local\\R\\win-library\\4.4\\00LOCK\\magrittr\\libs\\x64\\magrittr.dll to C:\\Users\\Harou\\AppData\\Local\\R\\win-library\\4.4\\magrittr\\libs\\x64\\magrittr.dll: Permission denied\"\n",
      "Warning message:\n",
      "\"restored 'magrittr'\"\n"
     ]
    },
    {
     "name": "stdout",
     "output_type": "stream",
     "text": [
      "\n",
      "The downloaded binary packages are in\n",
      "\tC:\\Users\\Harou\\AppData\\Local\\Temp\\Rtmp4w9Z0F\\downloaded_packages\n"
     ]
    },
    {
     "name": "stderr",
     "output_type": "stream",
     "text": [
      "Installing package into 'C:/Users/Harou/AppData/Local/R/win-library/4.4'\n",
      "(as 'lib' is unspecified)\n",
      "\n"
     ]
    },
    {
     "name": "stdout",
     "output_type": "stream",
     "text": [
      "package 'dplyr' successfully unpacked and MD5 sums checked\n"
     ]
    },
    {
     "name": "stderr",
     "output_type": "stream",
     "text": [
      "Warning message:\n",
      "\"cannot remove prior installation of package 'dplyr'\"\n",
      "Warning message in file.copy(savedcopy, lib, recursive = TRUE):\n",
      "\"problem copying C:\\Users\\Harou\\AppData\\Local\\R\\win-library\\4.4\\00LOCK\\dplyr\\libs\\x64\\dplyr.dll to C:\\Users\\Harou\\AppData\\Local\\R\\win-library\\4.4\\dplyr\\libs\\x64\\dplyr.dll: Permission denied\"\n",
      "Warning message:\n",
      "\"restored 'dplyr'\"\n"
     ]
    },
    {
     "name": "stdout",
     "output_type": "stream",
     "text": [
      "\n",
      "The downloaded binary packages are in\n",
      "\tC:\\Users\\Harou\\AppData\\Local\\Temp\\Rtmp4w9Z0F\\downloaded_packages\n"
     ]
    },
    {
     "name": "stderr",
     "output_type": "stream",
     "text": [
      "Installing package into 'C:/Users/Harou/AppData/Local/R/win-library/4.4'\n",
      "(as 'lib' is unspecified)\n",
      "\n"
     ]
    },
    {
     "name": "stdout",
     "output_type": "stream",
     "text": [
      "package 'matrixStats' successfully unpacked and MD5 sums checked\n"
     ]
    },
    {
     "name": "stderr",
     "output_type": "stream",
     "text": [
      "Warning message:\n",
      "\"cannot remove prior installation of package 'matrixStats'\"\n",
      "Warning message in file.copy(savedcopy, lib, recursive = TRUE):\n",
      "\"problem copying C:\\Users\\Harou\\AppData\\Local\\R\\win-library\\4.4\\00LOCK\\matrixStats\\libs\\x64\\matrixStats.dll to C:\\Users\\Harou\\AppData\\Local\\R\\win-library\\4.4\\matrixStats\\libs\\x64\\matrixStats.dll: Permission denied\"\n",
      "Warning message:\n",
      "\"restored 'matrixStats'\"\n"
     ]
    },
    {
     "name": "stdout",
     "output_type": "stream",
     "text": [
      "\n",
      "The downloaded binary packages are in\n",
      "\tC:\\Users\\Harou\\AppData\\Local\\Temp\\Rtmp4w9Z0F\\downloaded_packages\n"
     ]
    },
    {
     "name": "stderr",
     "output_type": "stream",
     "text": [
      "Installing package into 'C:/Users/Harou/AppData/Local/R/win-library/4.4'\n",
      "(as 'lib' is unspecified)\n",
      "\n",
      "also installing the dependencies 'iterators', 'permute', 'ca', 'foreach', 'gclus', 'qap', 'registry', 'TSP', 'vegan', 'seriation', 'prettydoc'\n",
      "\n",
      "\n"
     ]
    },
    {
     "name": "stdout",
     "output_type": "stream",
     "text": [
      "package 'iterators' successfully unpacked and MD5 sums checked\n",
      "package 'permute' successfully unpacked and MD5 sums checked\n",
      "package 'ca' successfully unpacked and MD5 sums checked\n",
      "package 'foreach' successfully unpacked and MD5 sums checked\n",
      "package 'gclus' successfully unpacked and MD5 sums checked\n",
      "package 'qap' successfully unpacked and MD5 sums checked\n",
      "package 'registry' successfully unpacked and MD5 sums checked\n",
      "package 'TSP' successfully unpacked and MD5 sums checked\n",
      "package 'vegan' successfully unpacked and MD5 sums checked\n",
      "package 'seriation' successfully unpacked and MD5 sums checked\n",
      "package 'prettydoc' successfully unpacked and MD5 sums checked\n",
      "package 'corrplot' successfully unpacked and MD5 sums checked\n",
      "\n",
      "The downloaded binary packages are in\n",
      "\tC:\\Users\\Harou\\AppData\\Local\\Temp\\Rtmp4w9Z0F\\downloaded_packages\n"
     ]
    }
   ],
   "source": [
    "install.packages(\"ggplot2\", dependencies=TRUE)\n",
    "install.packages(\"magrittr\", dependencies=TRUE)\n",
    "install.packages(\"dplyr\", dependencies=TRUE)\n",
    "install.packages(\"matrixStats\", dependencies=TRUE)\n",
    "install.packages(\"corrplot\", dependencies=TRUE)"
   ]
  },
  {
   "cell_type": "code",
   "execution_count": 9,
   "metadata": {
    "vscode": {
     "languageId": "r"
    }
   },
   "outputs": [
    {
     "name": "stderr",
     "output_type": "stream",
     "text": [
      "\n",
      "Attaching package: 'dplyr'\n",
      "\n",
      "\n",
      "The following objects are masked from 'package:stats':\n",
      "\n",
      "    filter, lag\n",
      "\n",
      "\n",
      "The following objects are masked from 'package:base':\n",
      "\n",
      "    intersect, setdiff, setequal, union\n",
      "\n",
      "\n",
      "\n",
      "Attaching package: 'lubridate'\n",
      "\n",
      "\n",
      "The following objects are masked from 'package:base':\n",
      "\n",
      "    date, intersect, setdiff, union\n",
      "\n",
      "\n",
      "\n",
      "Attaching package: 'matrixStats'\n",
      "\n",
      "\n",
      "The following object is masked from 'package:dplyr':\n",
      "\n",
      "    count\n",
      "\n",
      "\n",
      "corrplot 0.92 loaded\n",
      "\n"
     ]
    }
   ],
   "source": [
    "library(ggplot2)\n",
    "library(magrittr)\n",
    "library(dplyr)\n",
    "library(lubridate)\n",
    "library(matrixStats)\n",
    "library(corrplot)"
   ]
  },
  {
   "cell_type": "markdown",
   "metadata": {},
   "source": [
    "**Product Category Distribution**"
   ]
  },
  {
   "cell_type": "code",
   "execution_count": 10,
   "metadata": {
    "vscode": {
     "languageId": "r"
    }
   },
   "outputs": [
    {
     "name": "stderr",
     "output_type": "stream",
     "text": [
      "Warning message:\n",
      "\"\u001b[1m\u001b[22mThe dot-dot notation (`..count..`) was deprecated in ggplot2 3.4.0.\n",
      "\u001b[36mℹ\u001b[39m Please use `after_stat(count)` instead.\"\n"
     ]
    },
    {
     "data": {
      "image/png": "[encoded data removed]",
      "text/plain": [
       "plot without title"
      ]
     },
     "metadata": {
      "image/png": {
       "height": 420,
       "width": 420
      }
     },
     "output_type": "display_data"
    }
   ],
   "source": [
    "ggplot(data, aes(x = ProductCategory, y = ..count..)) +  \n",
    "  geom_bar(stat = \"count\", color = \"skyblue\") +  \n",
    "  labs(title = \"Product Distribution by Category\", x = \"Product Category\", y = \"Number of Products\")"
   ]
  },
  {
   "cell_type": "markdown",
   "metadata": {},
   "source": [
    "***---> Evenly distributed***"
   ]
  },
  {
   "cell_type": "markdown",
   "metadata": {},
   "source": [
    "**Price Distribution**"
   ]
  },
  {
   "cell_type": "code",
   "execution_count": 11,
   "metadata": {
    "vscode": {
     "languageId": "r"
    }
   },
   "outputs": [
    {
     "data": {
      "image/png": "[encoded data removed]",
      "text/plain": [
       "plot without title"
      ]
     },
     "metadata": {
      "image/png": {
       "height": 420,
       "width": 420
      }
     },
     "output_type": "display_data"
    }
   ],
   "source": [
    "ggplot(data, aes(x = Price, y = after_stat(density))) +  \n",
    "  geom_density(alpha = 0.5) +  \n",
    "  labs(title = \"Price Distribution\", x = \"Price\", y = \"Density\")"
   ]
  },
  {
   "cell_type": "code",
   "execution_count": 12,
   "metadata": {
    "vscode": {
     "languageId": "r"
    }
   },
   "outputs": [
    {
     "data": {
      "image/png": "[encoded data removed]",
      "text/plain": [
       "plot without title"
      ]
     },
     "metadata": {
      "image/png": {
       "height": 420,
       "width": 420
      }
     },
     "output_type": "display_data"
    }
   ],
   "source": [
    "data %>%\n",
    "  group_by(PaymentMethod) %>%\n",
    "  summarise(total_sales = sum(ifelse(is.numeric(TotalAmount), TotalAmount, 0))) %>%  \n",
    "  arrange(desc(total_sales)) %>%  \n",
    "  ggplot(aes(x = PaymentMethod, y = total_sales)) +\n",
    "  geom_bar(stat = \"identity\", color = \"coral\") +\n",
    "  labs(title = \"Total Sales by Payment Method\", x = \"Payment Method\", y = \"Total Sales\")\n"
   ]
  },
  {
   "cell_type": "markdown",
   "metadata": {},
   "source": [
    "***---> Credit cards are the lezast used in payments.***"
   ]
  },
  {
   "cell_type": "markdown",
   "metadata": {},
   "source": [
    "**Transactions by day of week**"
   ]
  },
  {
   "cell_type": "code",
   "execution_count": 13,
   "metadata": {
    "vscode": {
     "languageId": "r"
    }
   },
   "outputs": [
    {
     "name": "stderr",
     "output_type": "stream",
     "text": [
      "Warning message:\n",
      "\" 74 failed to parse.\"\n"
     ]
    },
    {
     "data": {
      "image/png": "[encoded data removed]",
      "text/plain": [
       "plot without title"
      ]
     },
     "metadata": {
      "image/png": {
       "height": 420,
       "width": 420
      }
     },
     "output_type": "display_data"
    }
   ],
   "source": [
    "data$TransactionDate <- ymd_hms(data$TransactionDate) \n",
    "data$Weekday <- weekdays(data$TransactionDate) \n",
    "\n",
    "transactions_by_day <- data %>%\n",
    "  group_by(Weekday) %>%\n",
    "  summarise(n_transactions = n()) %>%\n",
    "  arrange(Weekday)\n",
    "\n",
    "ggplot(transactions_by_day, aes(x = Weekday, y = n_transactions)) +\n",
    "  geom_bar(stat = \"identity\", color = \"lightblue\") +\n",
    "  labs(title = \"Transaction Frequency by Day of Week\", x = \"Day of Week\", y = \"Number of Transactions\") +\n",
    "  scale_x_discrete(labels = c(\"Sun\", \"Mon\", \"Tue\", \"Wed\", \"Thu\", \"Fri\", \"Sat\")) \n"
   ]
  },
  {
   "cell_type": "markdown",
   "metadata": {},
   "source": [
    "***---> We see an even distribution, I doubt about this data unless more information is given.***"
   ]
  },
  {
   "cell_type": "code",
   "execution_count": 14,
   "metadata": {
    "vscode": {
     "languageId": "r"
    }
   },
   "outputs": [
    {
     "data": {
      "image/png": "[encoded data removed]",
      "text/plain": [
       "plot without title"
      ]
     },
     "metadata": {
      "image/png": {
       "height": 420,
       "width": 420
      }
     },
     "output_type": "display_data"
    }
   ],
   "source": [
    "ggplot(data, aes(x = DiscountApplied..., y = TotalAmount)) +\n",
    "  geom_point(alpha = 0.5) +  \n",
    "  labs(title = \"Discount vs. Total Amount\", x = \"Discount (%)\", y = \"Total Amount\")"
   ]
  },
  {
   "cell_type": "markdown",
   "metadata": {},
   "source": [
    "**Total Amount Analysis**"
   ]
  },
  {
   "cell_type": "code",
   "execution_count": 15,
   "metadata": {
    "vscode": {
     "languageId": "r"
    }
   },
   "outputs": [
    {
     "data": {
      "text/plain": [
       "   Min. 1st Qu.  Median    Mean 3rd Qu.    Max. \n",
       "  8.275  95.163 200.368 248.335 362.010 896.141 "
      ]
     },
     "metadata": {},
     "output_type": "display_data"
    },
    {
     "data": {
      "image/png": "[encoded data removed]",
      "text/plain": [
       "Plot with title \"Histogram of data$TotalAmount\""
      ]
     },
     "metadata": {
      "image/png": {
       "height": 420,
       "width": 420
      }
     },
     "output_type": "display_data"
    }
   ],
   "source": [
    "summary(data$TotalAmount)\n",
    "hist(data$TotalAmount) "
   ]
  },
  {
   "cell_type": "markdown",
   "metadata": {},
   "source": [
    "**Top selling products**"
   ]
  },
  {
   "cell_type": "code",
   "execution_count": 16,
   "metadata": {
    "vscode": {
     "languageId": "r"
    }
   },
   "outputs": [
    {
     "data": {
      "text/html": [
       "<table class=\"dataframe\">\n",
       "<caption>A tibble: 4 × 2</caption>\n",
       "<thead>\n",
       "\t<tr><th scope=col>ProductID</th><th scope=col>TotalQuantitySold</th></tr>\n",
       "\t<tr><th scope=col>&lt;chr&gt;</th><th scope=col>&lt;int&gt;</th></tr>\n",
       "</thead>\n",
       "<tbody>\n",
       "\t<tr><td>C</td><td>125978</td></tr>\n",
       "\t<tr><td>D</td><td>125786</td></tr>\n",
       "\t<tr><td>B</td><td>125070</td></tr>\n",
       "\t<tr><td>A</td><td>124095</td></tr>\n",
       "</tbody>\n",
       "</table>\n"
      ],
      "text/latex": [
       "A tibble: 4 × 2\n",
       "\\begin{tabular}{ll}\n",
       " ProductID & TotalQuantitySold\\\\\n",
       " <chr> & <int>\\\\\n",
       "\\hline\n",
       "\t C & 125978\\\\\n",
       "\t D & 125786\\\\\n",
       "\t B & 125070\\\\\n",
       "\t A & 124095\\\\\n",
       "\\end{tabular}\n"
      ],
      "text/markdown": [
       "\n",
       "A tibble: 4 × 2\n",
       "\n",
       "| ProductID &lt;chr&gt; | TotalQuantitySold &lt;int&gt; |\n",
       "|---|---|\n",
       "| C | 125978 |\n",
       "| D | 125786 |\n",
       "| B | 125070 |\n",
       "| A | 124095 |\n",
       "\n"
      ],
      "text/plain": [
       "  ProductID TotalQuantitySold\n",
       "1 C         125978           \n",
       "2 D         125786           \n",
       "3 B         125070           \n",
       "4 A         124095           "
      ]
     },
     "metadata": {},
     "output_type": "display_data"
    }
   ],
   "source": [
    "n_unique_products <- length(unique(data$ProductID))\n",
    "top_selling_products <- data %>%\n",
    "  group_by(ProductID) %>%\n",
    "  summarize(TotalQuantitySold = sum(Quantity)) %>%\n",
    "  arrange(desc(TotalQuantitySold))\n",
    "top_selling_products"
   ]
  },
  {
   "cell_type": "markdown",
   "metadata": {},
   "source": [
    "**Top categories sold**"
   ]
  },
  {
   "cell_type": "code",
   "execution_count": 17,
   "metadata": {
    "vscode": {
     "languageId": "r"
    }
   },
   "outputs": [
    {
     "data": {
      "text/html": [
       "<table class=\"dataframe\">\n",
       "<caption>A tibble: 4 × 3</caption>\n",
       "<thead>\n",
       "\t<tr><th scope=col>ProductCategory</th><th scope=col>TotalQuantitySold</th><th scope=col>TotalRevenue</th></tr>\n",
       "\t<tr><th scope=col>&lt;chr&gt;</th><th scope=col>&lt;int&gt;</th><th scope=col>&lt;dbl&gt;</th></tr>\n",
       "</thead>\n",
       "<tbody>\n",
       "\t<tr><td>Books      </td><td>126047</td><td>6257837</td></tr>\n",
       "\t<tr><td>Clothing   </td><td>125044</td><td>6205502</td></tr>\n",
       "\t<tr><td>Electronics</td><td>125347</td><td>6196735</td></tr>\n",
       "\t<tr><td>Home Decor </td><td>124491</td><td>6173421</td></tr>\n",
       "</tbody>\n",
       "</table>\n"
      ],
      "text/latex": [
       "A tibble: 4 × 3\n",
       "\\begin{tabular}{lll}\n",
       " ProductCategory & TotalQuantitySold & TotalRevenue\\\\\n",
       " <chr> & <int> & <dbl>\\\\\n",
       "\\hline\n",
       "\t Books       & 126047 & 6257837\\\\\n",
       "\t Clothing    & 125044 & 6205502\\\\\n",
       "\t Electronics & 125347 & 6196735\\\\\n",
       "\t Home Decor  & 124491 & 6173421\\\\\n",
       "\\end{tabular}\n"
      ],
      "text/markdown": [
       "\n",
       "A tibble: 4 × 3\n",
       "\n",
       "| ProductCategory &lt;chr&gt; | TotalQuantitySold &lt;int&gt; | TotalRevenue &lt;dbl&gt; |\n",
       "|---|---|---|\n",
       "| Books       | 126047 | 6257837 |\n",
       "| Clothing    | 125044 | 6205502 |\n",
       "| Electronics | 125347 | 6196735 |\n",
       "| Home Decor  | 124491 | 6173421 |\n",
       "\n"
      ],
      "text/plain": [
       "  ProductCategory TotalQuantitySold TotalRevenue\n",
       "1 Books           126047            6257837     \n",
       "2 Clothing        125044            6205502     \n",
       "3 Electronics     125347            6196735     \n",
       "4 Home Decor      124491            6173421     "
      ]
     },
     "metadata": {},
     "output_type": "display_data"
    }
   ],
   "source": [
    "top_categories <- data %>%\n",
    "  group_by(ProductCategory) %>%\n",
    "  summarize(TotalQuantitySold = sum(Quantity), TotalRevenue = sum(TotalAmount)) %>%\n",
    "  arrange(desc(TotalRevenue)) %>%\n",
    "  head(5) \n",
    "top_categories"
   ]
  },
  {
   "cell_type": "code",
   "execution_count": 20,
   "metadata": {
    "vscode": {
     "languageId": "r"
    }
   },
   "outputs": [
    {
     "data": {
      "text/html": [
       "<table class=\"dataframe\">\n",
       "<caption>A matrix: 3 × 3 of type dbl</caption>\n",
       "<thead>\n",
       "\t<tr><th></th><th scope=col>Price</th><th scope=col>Quantity</th><th scope=col>TotalAmount</th></tr>\n",
       "</thead>\n",
       "<tbody>\n",
       "\t<tr><th scope=row>Price</th><td>1.000000000</td><td>0.001786576</td><td>0.6362936</td></tr>\n",
       "\t<tr><th scope=row>Quantity</th><td>0.001786576</td><td>1.000000000</td><td>0.6918469</td></tr>\n",
       "\t<tr><th scope=row>TotalAmount</th><td>0.636293607</td><td>0.691846855</td><td>1.0000000</td></tr>\n",
       "</tbody>\n",
       "</table>\n"
      ],
      "text/latex": [
       "A matrix: 3 × 3 of type dbl\n",
       "\\begin{tabular}{r|lll}\n",
       "  & Price & Quantity & TotalAmount\\\\\n",
       "\\hline\n",
       "\tPrice & 1.000000000 & 0.001786576 & 0.6362936\\\\\n",
       "\tQuantity & 0.001786576 & 1.000000000 & 0.6918469\\\\\n",
       "\tTotalAmount & 0.636293607 & 0.691846855 & 1.0000000\\\\\n",
       "\\end{tabular}\n"
      ],
      "text/markdown": [
       "\n",
       "A matrix: 3 × 3 of type dbl\n",
       "\n",
       "| <!--/--> | Price | Quantity | TotalAmount |\n",
       "|---|---|---|---|\n",
       "| Price | 1.000000000 | 0.001786576 | 0.6362936 |\n",
       "| Quantity | 0.001786576 | 1.000000000 | 0.6918469 |\n",
       "| TotalAmount | 0.636293607 | 0.691846855 | 1.0000000 |\n",
       "\n"
      ],
      "text/plain": [
       "            Price       Quantity    TotalAmount\n",
       "Price       1.000000000 0.001786576 0.6362936  \n",
       "Quantity    0.001786576 1.000000000 0.6918469  \n",
       "TotalAmount 0.636293607 0.691846855 1.0000000  "
      ]
     },
     "metadata": {},
     "output_type": "display_data"
    }
   ],
   "source": [
    "correlation_matrix <- cor(data[, c(\"Price\", \"Quantity\", \"TotalAmount\")])\n",
    "correlation_matrix"
   ]
  },
  {
   "cell_type": "code",
   "execution_count": 21,
   "metadata": {
    "vscode": {
     "languageId": "r"
    }
   },
   "outputs": [
    {
     "data": {
      "image/png": "[encoded data removed]",
      "text/plain": [
       "Plot with title \"\""
      ]
     },
     "metadata": {
      "image/png": {
       "height": 420,
       "width": 420
      }
     },
     "output_type": "display_data"
    }
   ],
   "source": [
    "corrplot(correlation_matrix, method = \"circle\", type = \"upper\", tl.col = \"black\")"
   ]
  },
  {
   "cell_type": "markdown",
   "metadata": {},
   "source": [
    "***---> Price and Quantity are not correlated at all.***"
   ]
  },
  {
   "cell_type": "markdown",
   "metadata": {
    "vscode": {
     "languageId": "r"
    }
   },
   "source": [
    "## Statistical Tests"
   ]
  },
  {
   "cell_type": "markdown",
   "metadata": {},
   "source": [
    "### 1. ANOVA (Analysis of Variance)"
   ]
  },
  {
   "cell_type": "code",
   "execution_count": 22,
   "metadata": {
    "vscode": {
     "languageId": "r"
    }
   },
   "outputs": [
    {
     "data": {
      "text/plain": [
       "                   Df    Sum Sq Mean Sq F value Pr(>F)\n",
       "ProductCategory     3 9.433e+04   31444   0.923  0.429\n",
       "Residuals       99996 3.406e+09   34061               "
      ]
     },
     "metadata": {},
     "output_type": "display_data"
    }
   ],
   "source": [
    "anova_result <- aov(TotalAmount ~ ProductCategory, data = data)\n",
    "summary(anova_result)"
   ]
  },
  {
   "cell_type": "markdown",
   "metadata": {},
   "source": [
    "***---> Since the p-value (0.429) is greater than the typical significance level of 0.05, we fail to reject the null hypothesis. This suggests that there is no significant difference in TotalAmount across different levels of ProductCategory. Therefore, we do not have enough evidence to conclude that ProductCategory has a significant effect on TotalAmount.***"
   ]
  },
  {
   "cell_type": "markdown",
   "metadata": {},
   "source": [
    "### 2. Chi-Square"
   ]
  },
  {
   "cell_type": "code",
   "execution_count": 23,
   "metadata": {
    "vscode": {
     "languageId": "r"
    }
   },
   "outputs": [
    {
     "data": {
      "text/plain": [
       "\n",
       "\tPearson's Chi-squared test\n",
       "\n",
       "data:  table(data$PaymentMethod, data$ProductCategory)\n",
       "X-squared = 8.6724, df = 9, p-value = 0.468\n"
      ]
     },
     "metadata": {},
     "output_type": "display_data"
    }
   ],
   "source": [
    "chisq_result <- chisq.test(table(data$PaymentMethod, data$ProductCategory))\n",
    "chisq_result"
   ]
  },
  {
   "cell_type": "markdown",
   "metadata": {},
   "source": [
    "***---> Since the p-value (0.468) is greater than the typical significance level of 0.05, we fail to reject the null hypothesis. This suggests that there is no significant association between PaymentMethod and ProductCategory. In other words, PaymentMethod and ProductCategory are independent of each other based on the available data.***"
   ]
  },
  {
   "cell_type": "markdown",
   "metadata": {},
   "source": [
    "### 3. Pearson Correlation"
   ]
  },
  {
   "cell_type": "code",
   "execution_count": 24,
   "metadata": {
    "vscode": {
     "languageId": "r"
    }
   },
   "outputs": [
    {
     "data": {
      "text/plain": [
       "\n",
       "\tPearson's product-moment correlation\n",
       "\n",
       "data:  data$Quantity and data$TotalAmount\n",
       "t = 303, df = 99998, p-value < 2.2e-16\n",
       "alternative hypothesis: true correlation is not equal to 0\n",
       "95 percent confidence interval:\n",
       " 0.6886016 0.6950644\n",
       "sample estimates:\n",
       "      cor \n",
       "0.6918469 \n"
      ]
     },
     "metadata": {},
     "output_type": "display_data"
    }
   ],
   "source": [
    "cor_test <- cor.test(data$Quantity, data$TotalAmount)\n",
    "cor_test"
   ]
  },
  {
   "cell_type": "markdown",
   "metadata": {},
   "source": [
    "***---> Since the p-value is extremely small (much smaller than the typical significance level of 0.05), we reject the null hypothesis. This suggests that there is a statistically significant positive correlation between Quantity and TotalAmount. In other words, as the quantity of items purchased increases, the total amount spent also tends to increase. The correlation coefficient of approximately 0.692 indicates a strong positive linear relationship between Quantity and TotalAmount.***"
   ]
  },
  {
   "cell_type": "markdown",
   "metadata": {},
   "source": [
    "### 4. T-Test"
   ]
  },
  {
   "cell_type": "code",
   "execution_count": 26,
   "metadata": {
    "vscode": {
     "languageId": "r"
    }
   },
   "outputs": [
    {
     "name": "stdout",
     "output_type": "stream",
     "text": [
      "Cash_vs_PayPal \n",
      "\n",
      "\tWelch Two Sample t-test\n",
      "\n",
      "data:  TotalAmount by PaymentMethod\n",
      "t = 0.050607, df = 50072, p-value = 0.9596\n",
      "alternative hypothesis: true difference in means between group Cash and group PayPal is not equal to 0\n",
      "95 percent confidence interval:\n",
      " -3.157009  3.324355\n",
      "sample estimates:\n",
      "  mean in group Cash mean in group PayPal \n",
      "            248.2088             248.1251 \n",
      "\n",
      "\n",
      "Cash_vs_Debit Card \n",
      "\n",
      "\tWelch Two Sample t-test\n",
      "\n",
      "data:  TotalAmount by PaymentMethod\n",
      "t = -0.60367, df = 49895, p-value = 0.5461\n",
      "alternative hypothesis: true difference in means between group Cash and group Debit Card is not equal to 0\n",
      "95 percent confidence interval:\n",
      " -4.236985  2.241619\n",
      "sample estimates:\n",
      "      mean in group Cash mean in group Debit Card \n",
      "                248.2088                 249.2065 \n",
      "\n",
      "\n",
      "Cash_vs_Credit Card \n",
      "\n",
      "\tWelch Two Sample t-test\n",
      "\n",
      "data:  TotalAmount by PaymentMethod\n",
      "t = 0.24587, df = 50038, p-value = 0.8058\n",
      "alternative hypothesis: true difference in means between group Cash and group Credit Card is not equal to 0\n",
      "95 percent confidence interval:\n",
      " -2.818767  3.627388\n",
      "sample estimates:\n",
      "       mean in group Cash mean in group Credit Card \n",
      "                 248.2088                  247.8045 \n",
      "\n",
      "\n",
      "PayPal_vs_Debit Card \n",
      "\n",
      "\tWelch Two Sample t-test\n",
      "\n",
      "data:  TotalAmount by PaymentMethod\n",
      "t = 0.65259, df = 49956, p-value = 0.514\n",
      "alternative hypothesis: true difference in means between group Debit Card and group PayPal is not equal to 0\n",
      "95 percent confidence interval:\n",
      " -2.166422  4.329134\n",
      "sample estimates:\n",
      "mean in group Debit Card     mean in group PayPal \n",
      "                249.2065                 248.1251 \n",
      "\n",
      "\n",
      "PayPal_vs_Credit Card \n",
      "\n",
      "\tWelch Two Sample t-test\n",
      "\n",
      "data:  TotalAmount by PaymentMethod\n",
      "t = -0.19447, df = 50094, p-value = 0.8458\n",
      "alternative hypothesis: true difference in means between group Credit Card and group PayPal is not equal to 0\n",
      "95 percent confidence interval:\n",
      " -3.552234  2.910959\n",
      "sample estimates:\n",
      "mean in group Credit Card      mean in group PayPal \n",
      "                 247.8045                  248.1251 \n",
      "\n",
      "\n",
      "Debit Card_vs_Credit Card \n",
      "\n",
      "\tWelch Two Sample t-test\n",
      "\n",
      "data:  TotalAmount by PaymentMethod\n",
      "t = -0.85069, df = 49915, p-value = 0.3949\n",
      "alternative hypothesis: true difference in means between group Credit Card and group Debit Card is not equal to 0\n",
      "95 percent confidence interval:\n",
      " -4.632206  1.828219\n",
      "sample estimates:\n",
      "mean in group Credit Card  mean in group Debit Card \n",
      "                 247.8045                  249.2065 \n",
      "\n",
      "\n"
     ]
    }
   ],
   "source": [
    "unique_payment_methods <- unique(data$PaymentMethod)\n",
    "\n",
    "t_test_results <- list()\n",
    "\n",
    "# Perform t-tests for each pair of payment methods\n",
    "for (i in 1:(length(unique_payment_methods)-1)) {\n",
    "  for (j in (i+1):length(unique_payment_methods)) {\n",
    "    method1 <- unique_payment_methods[i]\n",
    "    method2 <- unique_payment_methods[j]\n",
    "    \n",
    "    subset_data <- data[data$PaymentMethod %in% c(method1, method2),]\n",
    "    \n",
    "    # Perform t-test\n",
    "    t_test_result <- t.test(TotalAmount ~ PaymentMethod, data = subset_data)\n",
    "    \n",
    "    t_test_results[[paste(method1, method2, sep = \"_vs_\")]] <- t_test_result\n",
    "  }\n",
    "}\n",
    "\n",
    "# Print the results\n",
    "for (key in names(t_test_results)) {\n",
    "  cat(key, \"\\n\")\n",
    "  print(t_test_results[[key]])\n",
    "  cat(\"\\n\")\n",
    "}\n"
   ]
  },
  {
   "cell_type": "markdown",
   "metadata": {},
   "source": [
    "***--->*** \n",
    "* Cash_vs_PayPal:\n",
    "t = 0.050607, df = 50072, p-value = 0.9596\n",
    "There is no significant difference in the mean TotalAmount between the Cash and PayPal payment methods. The p-value is 0.9596, indicating that the difference is not statistically significant at the typical significance level of 0.05.\n",
    "\n",
    "* Cash_vs_Debit Card:\n",
    "t = -0.60367, df = 49895, p-value = 0.5461\n",
    "There is no significant difference in the mean TotalAmount between the Cash and Debit Card payment methods. The p-value is 0.5461, indicating that the difference is not statistically significant at the typical significance level of 0.05.\n",
    "\n",
    "* Cash_vs_Credit Card:\n",
    "t = 0.24587, df = 50038, p-value = 0.8058\n",
    "There is no significant difference in the mean TotalAmount between the Cash and Credit Card payment methods. The p-value is 0.8058, indicating that the difference is not statistically significant at the typical significance level of 0.05.\n",
    "\n",
    "* PayPal_vs_Debit Card:\n",
    "t = 0.65259, df = 49956, p-value = 0.514\n",
    "There is no significant difference in the mean TotalAmount between the PayPal and Debit Card payment methods. The p-value is 0.514, indicating that the difference is not statistically significant at the typical significance level of 0.05.\n",
    "\n",
    "* PayPal_vs_Credit Card:\n",
    "t = -0.19447, df = 50094, p-value = 0.8458\n",
    "There is no significant difference in the mean TotalAmount between the PayPal and Credit Card payment methods. The p-value is 0.8458, indicating that the difference is not statistically significant at the typical significance level of 0.05.\n",
    "\n",
    "***In summary, based on these t-tests, there is no significant difference in the mean TotalAmount between any pairs of the PaymentMethods (Cash, PayPal, Debit Card, and Credit Card).***"
   ]
  },
  {
   "cell_type": "markdown",
   "metadata": {},
   "source": [
    "## Time Series Forecasting (BONUS-for more analysis)"
   ]
  },
  {
   "cell_type": "code",
   "execution_count": 30,
   "metadata": {
    "vscode": {
     "languageId": "r"
    }
   },
   "outputs": [
    {
     "name": "stderr",
     "output_type": "stream",
     "text": [
      "Installing package into 'C:/Users/Harou/AppData/Local/R/win-library/4.4'\n",
      "(as 'lib' is unspecified)\n",
      "\n"
     ]
    },
    {
     "name": "stderr",
     "output_type": "stream",
     "text": [
      "also installing the dependencies 'xts', 'TTR', 'quantmod', 'x13binary', 'fracdiff', 'lmtest', 'timeDate', 'tseries', 'urca', 'RcppArmadillo', 'forecTheta', 'rticles', 'seasonal', 'uroot'\n",
      "\n",
      "\n"
     ]
    },
    {
     "name": "stdout",
     "output_type": "stream",
     "text": [
      "\n",
      "  There is a binary version available but the source version is later:\n",
      "                  binary     source needs_compilation\n",
      "RcppArmadillo 0.12.8.2.1 0.12.8.3.0              TRUE\n",
      "\n",
      "  Binaries will be installed\n"
     ]
    },
    {
     "name": "stderr",
     "output_type": "stream",
     "text": [
      "Warning message in download.file(url, destfile, method, mode = \"wb\", ...):\n",
      "\"downloaded length 1851392 != reported length 1887745\"\n",
      "Warning message in download.file(url, destfile, method, mode = \"wb\", ...):\n",
      "\"URL 'https://cran.r-project.org/bin/windows/contrib/4.4/x13binary_1.1.60.zip': Timeout of 60 seconds was reached\"\n"
     ]
    },
    {
     "name": "stdout",
     "output_type": "stream",
     "text": [
      "Error in download.file(url, destfile, method, mode = \"wb\", ...) : \n",
      "  download from 'https://cran.r-project.org/bin/windows/contrib/4.4/x13binary_1.1.60.zip' failed\n"
     ]
    },
    {
     "name": "stderr",
     "output_type": "stream",
     "text": [
      "Warning message in download.packages(pkgs, destdir = tmpd, available = available, :\n",
      "\"download of package 'x13binary' failed\"\n",
      "Warning message in download.file(url, destfile, method, mode = \"wb\", ...):\n",
      "\"downloaded length 753664 != reported length 2062415\"\n",
      "Warning message in download.file(url, destfile, method, mode = \"wb\", ...):\n",
      "\"URL 'https://cran.r-project.org/bin/windows/contrib/4.4/RcppArmadillo_0.12.8.2.1.zip': Timeout of 60 seconds was reached\"\n"
     ]
    },
    {
     "name": "stdout",
     "output_type": "stream",
     "text": [
      "Error in download.file(url, destfile, method, mode = \"wb\", ...) : \n",
      "  download from 'https://cran.r-project.org/bin/windows/contrib/4.4/RcppArmadillo_0.12.8.2.1.zip' failed\n"
     ]
    },
    {
     "name": "stderr",
     "output_type": "stream",
     "text": [
      "Warning message in download.packages(pkgs, destdir = tmpd, available = available, :\n",
      "\"download of package 'RcppArmadillo' failed\"\n",
      "Warning message in download.file(url, destfile, method, mode = \"wb\", ...):\n",
      "\"downloaded length 720896 != reported length 5418541\"\n",
      "Warning message in download.file(url, destfile, method, mode = \"wb\", ...):\n",
      "\"URL 'https://cran.r-project.org/bin/windows/contrib/4.4/rticles_0.27.zip': Timeout of 60 seconds was reached\"\n"
     ]
    },
    {
     "name": "stdout",
     "output_type": "stream",
     "text": [
      "Error in download.file(url, destfile, method, mode = \"wb\", ...) : \n",
      "  download from 'https://cran.r-project.org/bin/windows/contrib/4.4/rticles_0.27.zip' failed\n"
     ]
    },
    {
     "name": "stderr",
     "output_type": "stream",
     "text": [
      "Warning message in download.packages(pkgs, destdir = tmpd, available = available, :\n",
      "\"download of package 'rticles' failed\"\n",
      "Warning message in download.file(url, destfile, method, mode = \"wb\", ...):\n",
      "\"downloaded length 1277952 != reported length 1926604\"\n",
      "Warning message in download.file(url, destfile, method, mode = \"wb\", ...):\n",
      "\"URL 'https://cran.r-project.org/bin/windows/contrib/4.4/uroot_2.1-3.zip': Timeout of 60 seconds was reached\"\n"
     ]
    },
    {
     "name": "stdout",
     "output_type": "stream",
     "text": [
      "Error in download.file(url, destfile, method, mode = \"wb\", ...) : \n",
      "  download from 'https://cran.r-project.org/bin/windows/contrib/4.4/uroot_2.1-3.zip' failed\n"
     ]
    },
    {
     "name": "stderr",
     "output_type": "stream",
     "text": [
      "Warning message in download.packages(pkgs, destdir = tmpd, available = available, :\n",
      "\"download of package 'uroot' failed\"\n"
     ]
    },
    {
     "name": "stdout",
     "output_type": "stream",
     "text": [
      "package 'xts' successfully unpacked and MD5 sums checked\n",
      "package 'TTR' successfully unpacked and MD5 sums checked\n",
      "package 'quantmod' successfully unpacked and MD5 sums checked\n",
      "package 'fracdiff' successfully unpacked and MD5 sums checked\n",
      "package 'lmtest' successfully unpacked and MD5 sums checked\n",
      "package 'timeDate' successfully unpacked and MD5 sums checked\n",
      "package 'tseries' successfully unpacked and MD5 sums checked\n",
      "package 'urca' successfully unpacked and MD5 sums checked\n",
      "package 'forecTheta' successfully unpacked and MD5 sums checked\n",
      "package 'seasonal' successfully unpacked and MD5 sums checked\n",
      "package 'forecast' successfully unpacked and MD5 sums checked\n",
      "\n",
      "The downloaded binary packages are in\n",
      "\tC:\\Users\\Harou\\AppData\\Local\\Temp\\Rtmp4w9Z0F\\downloaded_packages\n"
     ]
    }
   ],
   "source": [
    "install.packages(\"forecast\", dependencies=TRUE)"
   ]
  },
  {
   "cell_type": "code",
   "execution_count": 31,
   "metadata": {
    "vscode": {
     "languageId": "r"
    }
   },
   "outputs": [
    {
     "name": "stderr",
     "output_type": "stream",
     "text": [
      "Registered S3 method overwritten by 'quantmod':\n",
      "  method            from\n",
      "  as.zoo.data.frame zoo \n",
      "\n"
     ]
    }
   ],
   "source": [
    "library(forecast)"
   ]
  },
  {
   "cell_type": "code",
   "execution_count": 48,
   "metadata": {
    "vscode": {
     "languageId": "r"
    }
   },
   "outputs": [
    {
     "data": {
      "image/png": "[encoded data removed]",
      "text/plain": [
       "Plot with title \"Total Amount Time Series Data\""
      ]
     },
     "metadata": {
      "image/png": {
       "height": 420,
       "width": 420
      }
     },
     "output_type": "display_data"
    },
    {
     "data": {
      "image/png": "[encoded data removed]",
      "text/plain": [
       "Plot with title \"Forecast of Total Amount Time Series\""
      ]
     },
     "metadata": {
      "image/png": {
       "height": 420,
       "width": 420
      }
     },
     "output_type": "display_data"
    }
   ],
   "source": [
    "data$TransactionDate <- as.Date(data$TransactionDate)\n",
    "\n",
    "data <- na.omit(data)\n",
    "\n",
    "# Create a time series object using TotalAmount and TransactionDate\n",
    "ts_data <- ts(data$TotalAmount, start = c(year(min(data$TransactionDate)), as.numeric(format(min(data$TransactionDate), \"%j\"))), \n",
    "              end = c(year(max(data$TransactionDate)), as.numeric(format(max(data$TransactionDate), \"%j\"))), frequency=365)\n",
    "\n",
    "plot(ts_data, main = \"Total Amount Time Series Data\", xlab = \"Date\", ylab = \"Total Amount\")\n",
    "\n",
    "# Forecast future values using the \"naive\" method\n",
    "forecast_ts <- forecast(ts_data, h = 12)\n",
    "\n",
    "plot(forecast_ts, main = \"Forecast of Total Amount Time Series\", xlab = \"Date\", ylab = \"Total Amount\")\n",
    "lines(ts_data, col = \"blue\")  "
   ]
  },
  {
   "cell_type": "code",
   "execution_count": 49,
   "metadata": {
    "vscode": {
     "languageId": "r"
    }
   },
   "outputs": [
    {
     "data": {
      "text/html": [
       "<table class=\"dataframe\">\n",
       "<caption>A matrix: 1 × 7 of type dbl</caption>\n",
       "<thead>\n",
       "\t<tr><th></th><th scope=col>ME</th><th scope=col>RMSE</th><th scope=col>MAE</th><th scope=col>MPE</th><th scope=col>MAPE</th><th scope=col>MASE</th><th scope=col>ACF1</th></tr>\n",
       "</thead>\n",
       "<tbody>\n",
       "\t<tr><th scope=row>Training set</th><td>-0.1745416</td><td>178.3914</td><td>150.6582</td><td>-115.5408</td><td>147.2017</td><td>1.343571</td><td>-0.07799503</td></tr>\n",
       "</tbody>\n",
       "</table>\n"
      ],
      "text/latex": [
       "A matrix: 1 × 7 of type dbl\n",
       "\\begin{tabular}{r|lllllll}\n",
       "  & ME & RMSE & MAE & MPE & MAPE & MASE & ACF1\\\\\n",
       "\\hline\n",
       "\tTraining set & -0.1745416 & 178.3914 & 150.6582 & -115.5408 & 147.2017 & 1.343571 & -0.07799503\\\\\n",
       "\\end{tabular}\n"
      ],
      "text/markdown": [
       "\n",
       "A matrix: 1 × 7 of type dbl\n",
       "\n",
       "| <!--/--> | ME | RMSE | MAE | MPE | MAPE | MASE | ACF1 |\n",
       "|---|---|---|---|---|---|---|---|\n",
       "| Training set | -0.1745416 | 178.3914 | 150.6582 | -115.5408 | 147.2017 | 1.343571 | -0.07799503 |\n",
       "\n"
      ],
      "text/plain": [
       "             ME         RMSE     MAE      MPE       MAPE     MASE    \n",
       "Training set -0.1745416 178.3914 150.6582 -115.5408 147.2017 1.343571\n",
       "             ACF1       \n",
       "Training set -0.07799503"
      ]
     },
     "metadata": {},
     "output_type": "display_data"
    }
   ],
   "source": [
    "accuracy(forecast_ts)"
   ]
  },
  {
   "cell_type": "markdown",
   "metadata": {
    "vscode": {
     "languageId": "r"
    }
   },
   "source": [
    "![mhz](./img/mhz.png)"
   ]
  }
 ],
 "metadata": {
  "kernelspec": {
   "display_name": "R",
   "language": "R",
   "name": "ir"
  },
  "language_info": {
   "codemirror_mode": "r",
   "file_extension": ".r",
   "mimetype": "text/x-r-source",
   "name": "R",
   "pygments_lexer": "r",
   "version": "4.4.0"
  }
 },
 "nbformat": 4,
 "nbformat_minor": 2
}
